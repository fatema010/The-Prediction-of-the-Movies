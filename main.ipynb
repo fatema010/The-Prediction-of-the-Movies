{
 "cells": [
  {
   "attachments": {},
   "cell_type": "markdown",
   "metadata": {},
   "source": [
    "## Here's an outline of the goals, objectives, and methodology for The prediction of the movies project.I will try and build the following:\n",
    "\n",
    "# Introduction:\n",
    "\n",
    "Overview of the project and its objectives\n",
    "Importance of revenue prediction and hit/flop classification in the movie industry\n",
    "Description of the data used in the project\n",
    "\n",
    "# Goals and Objectives:\n",
    "Build a Regressor for Movie Revenue Prediction\n",
    "Collect and preprocess movie data\n",
    "Feature engineering to extract relevant information\n",
    "Train and optimize a regressor model\n",
    "Evaluate model performance and tune hyperparameters\n",
    "Deploy the model for revenue prediction\n",
    "Build a Classifier for Hit/Flop Prediction\n",
    "Train and optimize a classification model\n",
    "# Methodology:\n",
    "For data collection, describe sources of data.\n",
    "For preprocessing and feature engineering, describe the steps taken to clean and transform the data, and how features were selected and engineered.\n",
    "For model training and optimization, describe the algorithms and techniques used for model selection, training, and optimization.\n"
   ]
  },
  {
   "attachments": {},
   "cell_type": "markdown",
   "metadata": {},
   "source": [
    "# Importing libraries"
   ]
  },
  {
   "cell_type": "code",
   "execution_count": 996,
   "metadata": {},
   "outputs": [],
   "source": [
    "import pandas as pd\n",
    "import matplotlib.pyplot as plt\n",
    "import seaborn as sns\n",
    "import numpy as np\n",
    "from scipy import stats\n",
    "import datetime \n",
    "from wordcloud import WordCloud, STOPWORDS\n",
    "import ast\n",
    "import plotly.offline as py\n",
    "from IPython.display import display,Image,HTML\n",
    "%matplotlib inline"
   ]
  },
  {
   "cell_type": "code",
   "execution_count": 997,
   "metadata": {},
   "outputs": [
    {
     "name": "stderr",
     "output_type": "stream",
     "text": [
      "C:\\Users\\fatem\\AppData\\Local\\Temp\\ipykernel_4784\\1436890619.py:1: DtypeWarning:\n",
      "\n",
      "Columns (10) have mixed types. Specify dtype option on import or set low_memory=False.\n",
      "\n"
     ]
    }
   ],
   "source": [
    "df =pd.read_csv('E:/New Project/datasets/movies_metadata.csv')"
   ]
  },
  {
   "cell_type": "code",
   "execution_count": 998,
   "metadata": {},
   "outputs": [
    {
     "data": {
      "text/plain": [
       "(45466, 24)"
      ]
     },
     "execution_count": 998,
     "metadata": {},
     "output_type": "execute_result"
    }
   ],
   "source": [
    "df.shape"
   ]
  },
  {
   "attachments": {},
   "cell_type": "markdown",
   "metadata": {},
   "source": [
    "# Understanding the Dataset:\n",
    "The dataset was acquired via the TMDB API, and contains a comprehensive collection of movies that are also present in the MovieLens Latest Full Dataset. This includes 45,466 movies that have been rated by over 27,000 users, resulting in a massive dataset of over 26 million ratings. With access to this rich source of data, it has a abundance of features for analysis and modeling.\n"
   ]
  },
  {
   "cell_type": "code",
   "execution_count": 999,
   "metadata": {},
   "outputs": [
    {
     "data": {
      "text/plain": [
       "Index(['adult', 'belongs_to_collection', 'budget', 'genres', 'homepage', 'id',\n",
       "       'imdb_id', 'original_language', 'original_title', 'overview',\n",
       "       'popularity', 'poster_path', 'production_companies',\n",
       "       'production_countries', 'release_date', 'revenue', 'runtime',\n",
       "       'spoken_languages', 'status', 'tagline', 'title', 'video',\n",
       "       'vote_average', 'vote_count'],\n",
       "      dtype='object')"
      ]
     },
     "execution_count": 999,
     "metadata": {},
     "output_type": "execute_result"
    }
   ],
   "source": [
    "df.columns"
   ]
  },
  {
   "attachments": {},
   "cell_type": "markdown",
   "metadata": {},
   "source": [
    "# Attributes\n",
    "1 adult: Indicates if the movie is X-Rated or Adult.\n",
    "\n",
    "2 belongs_to_collection: A string format of dictionary that gives information on the movie series the particular film belongs to.\n",
    "\n",
    "3 budget: The budget of the movie in dollars.\n",
    "\n",
    "4 genres: A list of dictionaries that list out all the genres associated with the movie.\n",
    "\n",
    "5 homepage: The Official Homepage of the move.\n",
    "\n",
    "6 id: The ID of the move.\n",
    "\n",
    "7 imdb_id: The IMDB ID of the movie.\n",
    "\n",
    "8 original_language: The language in which the movie was originally shot in.\n",
    "\n",
    "9 original_title: The original title of the movie.\n",
    "\n",
    "10 overview: A brief summary of the movie.\n",
    "\n",
    "11 popularity: The Popularity Score assigned by TMDB.\n",
    "\n",
    "12 poster_path: The URL of the poster image.\n",
    "\n",
    "13 production_companies: A list of production companies involved with the making of the movie.\n",
    "\n",
    "14 production_countries: A list of countries where the movie was shot/produced in.\n",
    "\n",
    "15 release_date: Release Date of the movie.\n",
    "\n",
    "16 revenue: The total revenue of the movie in dollars.\n",
    "\n",
    "17 runtime: The runtime of the movie in minutes.\n",
    "\n",
    "18 spoken_languages: A list of spoken languages in the film.\n",
    "\n",
    "19 status: The status of the movie (Released, To Be Released, Announced, etc.)\n",
    "\n",
    "20 tagline: The tagline of the movie.\n",
    "\n",
    "21 title: The Official Title of the movie.\n",
    "\n",
    "22 video: Indicates if there is a video present of the movie with TMDB.\n",
    "\n",
    "23 vote_average: The average rating of the movie.\n",
    "\n",
    "24 vote_count: The number of votes by users, as counted by TMDB."
   ]
  },
  {
   "attachments": {},
   "cell_type": "markdown",
   "metadata": {},
   "source": [
    "# Data preprocessing:  \n",
    "The dataset appears to be relatively clean; however, it would still be beneficial to gain a better understanding of the features within the data and perform appropriate data preprocessing to create a more suitable form for analysis."
   ]
  },
  {
   "cell_type": "code",
   "execution_count": 1000,
   "metadata": {},
   "outputs": [],
   "source": [
    "df['budget'] = pd.to_numeric(df['budget'],errors='coerce')\n",
    "#When 'errors' is set to 'coerce', it means that if an error occurs during conversion \n",
    "# (e.g., if pandas encounters a non-numeric value when trying to convert a column of data into numeric format),\n",
    "#  pandas will replace the problematic value(s) with NaN instead of raising an error or exception."
   ]
  },
  {
   "cell_type": "code",
   "execution_count": 1001,
   "metadata": {},
   "outputs": [
    {
     "data": {
      "text/plain": [
       "(36576, 24)"
      ]
     },
     "execution_count": 1001,
     "metadata": {},
     "output_type": "execute_result"
    }
   ],
   "source": [
    "df['budget'] = df['budget'].replace(0,np.nan)\n",
    "df[df['budget'].isnull()].shape"
   ]
  },
  {
   "attachments": {},
   "cell_type": "markdown",
   "metadata": {},
   "source": [
    "The budget feature in the dataset contains unclean values that have caused Pandas to assign it as a generic object type. To rectify this, the budget feature has been converted into a numeric variable, and all non-numeric values has replaced with NaN. In addition, all values of 0 replaced with NaN to indicate a lack of information about the budget, similar to what was done for the revenue feature."
   ]
  },
  {
   "cell_type": "code",
   "execution_count": 1002,
   "metadata": {},
   "outputs": [
    {
     "data": {
      "text/plain": [
       "(38052, 24)"
      ]
     },
     "execution_count": 1002,
     "metadata": {},
     "output_type": "execute_result"
    }
   ],
   "source": [
    "df[df['revenue'] == 0].shape"
   ]
  },
  {
   "cell_type": "code",
   "execution_count": 1003,
   "metadata": {},
   "outputs": [],
   "source": [
    "df['revenue'] = df['revenue'].replace(0,np.nan)"
   ]
  },
  {
   "attachments": {},
   "cell_type": "markdown",
   "metadata": {},
   "source": [
    "While analyzing the dataset, observeed that a large proportion of movies in our collection have a recorded revenue of 0, which suggests that information on total revenue is not available for these films. Despite this fact, recognized that revenue is a crucial feature for our analysis and will continue to use it as such for the remaining 7414 movies with revenue data available.      "
   ]
  },
  {
   "cell_type": "code",
   "execution_count": 1004,
   "metadata": {},
   "outputs": [],
   "source": [
    "df = df.drop(['imdb_id'], axis=1)"
   ]
  },
  {
   "cell_type": "code",
   "execution_count": 1005,
   "metadata": {},
   "outputs": [
    {
     "data": {
      "text/html": [
       "<div>\n",
       "<style scoped>\n",
       "    .dataframe tbody tr th:only-of-type {\n",
       "        vertical-align: middle;\n",
       "    }\n",
       "\n",
       "    .dataframe tbody tr th {\n",
       "        vertical-align: top;\n",
       "    }\n",
       "\n",
       "    .dataframe thead th {\n",
       "        text-align: right;\n",
       "    }\n",
       "</style>\n",
       "<table border=\"1\" class=\"dataframe\">\n",
       "  <thead>\n",
       "    <tr style=\"text-align: right;\">\n",
       "      <th></th>\n",
       "      <th>title</th>\n",
       "      <th>original_title</th>\n",
       "    </tr>\n",
       "  </thead>\n",
       "  <tbody>\n",
       "    <tr>\n",
       "      <th>28</th>\n",
       "      <td>The City of Lost Children</td>\n",
       "      <td>La Cité des Enfants Perdus</td>\n",
       "    </tr>\n",
       "    <tr>\n",
       "      <th>29</th>\n",
       "      <td>Shanghai Triad</td>\n",
       "      <td>摇啊摇，摇到外婆桥</td>\n",
       "    </tr>\n",
       "    <tr>\n",
       "      <th>32</th>\n",
       "      <td>Wings of Courage</td>\n",
       "      <td>Guillaumet, les ailes du courage</td>\n",
       "    </tr>\n",
       "    <tr>\n",
       "      <th>57</th>\n",
       "      <td>The Postman</td>\n",
       "      <td>Il postino</td>\n",
       "    </tr>\n",
       "    <tr>\n",
       "      <th>58</th>\n",
       "      <td>The Confessional</td>\n",
       "      <td>Le confessionnal</td>\n",
       "    </tr>\n",
       "  </tbody>\n",
       "</table>\n",
       "</div>"
      ],
      "text/plain": [
       "                        title                    original_title\n",
       "28  The City of Lost Children        La Cité des Enfants Perdus\n",
       "29             Shanghai Triad                         摇啊摇，摇到外婆桥\n",
       "32           Wings of Courage  Guillaumet, les ailes du courage\n",
       "57                The Postman                        Il postino\n",
       "58           The Confessional                  Le confessionnal"
      ]
     },
     "execution_count": 1005,
     "metadata": {},
     "output_type": "execute_result"
    }
   ],
   "source": [
    "\n",
    "df[df['original_title'] != df['title']][['title', 'original_title']].head()"
   ]
  },
  {
   "attachments": {},
   "cell_type": "markdown",
   "metadata": {},
   "source": [
    "The analysis will utilize the translated, Anglicized movie title instead of the original title, which is the title of the movie in the language it was originally shot. To accomplish this, the original titleshas been dropped from the dataset. However, it will still be possible to identify if a movie is a foreign language film by reviewing the 'original_language' feature, thus preventing any significant loss of information."
   ]
  },
  {
   "cell_type": "code",
   "execution_count": 1006,
   "metadata": {},
   "outputs": [],
   "source": [
    "df = df.drop(['original_title'],axis=1)"
   ]
  },
  {
   "attachments": {},
   "cell_type": "markdown",
   "metadata": {},
   "source": [
    "#### Moving forward with the analysis, it is necessary to create certain features that are appropriate for answering specific questions. Two crucial features that we will create are:\n",
    "\n",
    "## year: indicating the year of movie release\n",
    "## return: representing the revenue to budget ratio.\n",
    "The return feature is highly informative since it can provide a more precise assessment of a movie's financial success. Currently, our dataset is unable to distinguish between a $200 million budget movie that earned $100 million and a $50,000 budget movie that earned $200,000. The return feature will address this limitation and allow for a more accurate comparison of movie profitability.\n",
    "\n",
    "### A return value greater than 1 would indicate profit, while a return value less than 1 would signify a loss."
   ]
  },
  {
   "cell_type": "code",
   "execution_count": 1007,
   "metadata": {},
   "outputs": [
    {
     "data": {
      "text/plain": [
       "(40085, 23)"
      ]
     },
     "execution_count": 1007,
     "metadata": {},
     "output_type": "execute_result"
    }
   ],
   "source": [
    "df['return'] = df['revenue']/df['budget']\n",
    "df[df['return'].isnull()].shape"
   ]
  },
  {
   "attachments": {},
   "cell_type": "markdown",
   "metadata": {},
   "source": [
    "Out of the entire dataset, There are information on revenue and budget ratio for 5381 movies, which may seem like a small fraction, accounting for only 10%. However, it is sufficient to carry out meaningful analyses and gain valuable insights into the movie industry."
   ]
  },
  {
   "cell_type": "code",
   "execution_count": 1008,
   "metadata": {},
   "outputs": [],
   "source": [
    "df['year'] = pd.to_datetime(df['release_date'],errors='coerce').apply(lambda x: str(x).split('-')[0]if x != np.nan else np.nan)"
   ]
  },
  {
   "cell_type": "code",
   "execution_count": 1009,
   "metadata": {},
   "outputs": [
    {
     "data": {
      "text/plain": [
       "False                                                                                                                             45454\n",
       "True                                                                                                                                  9\n",
       " - Written by Ørnås                                                                                                                   1\n",
       " Rune Balot goes to a casino connected to the October corporation to try to wrap up her case once and for all.                        1\n",
       " Avalanche Sharks tells the story of a bikini contest that turns into a horrifying affair when it is hit by a shark avalanche.        1\n",
       "Name: adult, dtype: int64"
      ]
     },
     "execution_count": 1009,
     "metadata": {},
     "output_type": "execute_result"
    }
   ],
   "source": [
    "df['adult'].value_counts()"
   ]
  },
  {
   "attachments": {},
   "cell_type": "markdown",
   "metadata": {},
   "source": [
    "Since there are only a negligible number of adult movies in the dataset, the 'adult' feature does not hold much significance for the analysis and can be safely removed from the dataset"
   ]
  },
  {
   "cell_type": "code",
   "execution_count": 1010,
   "metadata": {},
   "outputs": [
    {
     "data": {
      "text/html": [
       "<div>\n",
       "<style scoped>\n",
       "    .dataframe tbody tr th:only-of-type {\n",
       "        vertical-align: middle;\n",
       "    }\n",
       "\n",
       "    .dataframe tbody tr th {\n",
       "        vertical-align: top;\n",
       "    }\n",
       "\n",
       "    .dataframe thead th {\n",
       "        text-align: right;\n",
       "    }\n",
       "</style>\n",
       "<table border=\"1\" class=\"dataframe\">\n",
       "  <thead>\n",
       "    <tr style=\"text-align: right;\">\n",
       "      <th></th>\n",
       "      <th>belongs_to_collection</th>\n",
       "      <th>budget</th>\n",
       "      <th>genres</th>\n",
       "      <th>homepage</th>\n",
       "      <th>id</th>\n",
       "      <th>original_language</th>\n",
       "      <th>overview</th>\n",
       "      <th>popularity</th>\n",
       "      <th>poster_path</th>\n",
       "      <th>production_companies</th>\n",
       "      <th>...</th>\n",
       "      <th>runtime</th>\n",
       "      <th>spoken_languages</th>\n",
       "      <th>status</th>\n",
       "      <th>tagline</th>\n",
       "      <th>title</th>\n",
       "      <th>video</th>\n",
       "      <th>vote_average</th>\n",
       "      <th>vote_count</th>\n",
       "      <th>return</th>\n",
       "      <th>year</th>\n",
       "    </tr>\n",
       "  </thead>\n",
       "  <tbody>\n",
       "    <tr>\n",
       "      <th>0</th>\n",
       "      <td>{'id': 10194, 'name': 'Toy Story Collection', 'poster_path': '/7G9915LfUQ2lVfwMEEhDsn3kT4B.jpg',...</td>\n",
       "      <td>30000000.0</td>\n",
       "      <td>[{'id': 16, 'name': 'Animation'}, {'id': 35, 'name': 'Comedy'}, {'id': 10751, 'name': 'Family'}]</td>\n",
       "      <td>http://toystory.disney.com/toy-story</td>\n",
       "      <td>862</td>\n",
       "      <td>en</td>\n",
       "      <td>Led by Woody, Andy's toys live happily in his room until Andy's birthday brings Buzz Lightyear o...</td>\n",
       "      <td>21.946943</td>\n",
       "      <td>/rhIRbceoE9lR4veEXuwCC2wARtG.jpg</td>\n",
       "      <td>[{'name': 'Pixar Animation Studios', 'id': 3}]</td>\n",
       "      <td>...</td>\n",
       "      <td>81.0</td>\n",
       "      <td>[{'iso_639_1': 'en', 'name': 'English'}]</td>\n",
       "      <td>Released</td>\n",
       "      <td>NaN</td>\n",
       "      <td>Toy Story</td>\n",
       "      <td>False</td>\n",
       "      <td>7.7</td>\n",
       "      <td>5415.0</td>\n",
       "      <td>12.451801</td>\n",
       "      <td>1995</td>\n",
       "    </tr>\n",
       "    <tr>\n",
       "      <th>1</th>\n",
       "      <td>NaN</td>\n",
       "      <td>65000000.0</td>\n",
       "      <td>[{'id': 12, 'name': 'Adventure'}, {'id': 14, 'name': 'Fantasy'}, {'id': 10751, 'name': 'Family'}]</td>\n",
       "      <td>NaN</td>\n",
       "      <td>8844</td>\n",
       "      <td>en</td>\n",
       "      <td>When siblings Judy and Peter discover an enchanted board game that opens the door to a magical w...</td>\n",
       "      <td>17.015539</td>\n",
       "      <td>/vzmL6fP7aPKNKPRTFnZmiUfciyV.jpg</td>\n",
       "      <td>[{'name': 'TriStar Pictures', 'id': 559}, {'name': 'Teitler Film', 'id': 2550}, {'name': 'Inters...</td>\n",
       "      <td>...</td>\n",
       "      <td>104.0</td>\n",
       "      <td>[{'iso_639_1': 'en', 'name': 'English'}, {'iso_639_1': 'fr', 'name': 'Français'}]</td>\n",
       "      <td>Released</td>\n",
       "      <td>Roll the dice and unleash the excitement!</td>\n",
       "      <td>Jumanji</td>\n",
       "      <td>False</td>\n",
       "      <td>6.9</td>\n",
       "      <td>2413.0</td>\n",
       "      <td>4.043035</td>\n",
       "      <td>1995</td>\n",
       "    </tr>\n",
       "    <tr>\n",
       "      <th>2</th>\n",
       "      <td>{'id': 119050, 'name': 'Grumpy Old Men Collection', 'poster_path': '/nLvUdqgPgm3F85NMCii9gVFUcet...</td>\n",
       "      <td>NaN</td>\n",
       "      <td>[{'id': 10749, 'name': 'Romance'}, {'id': 35, 'name': 'Comedy'}]</td>\n",
       "      <td>NaN</td>\n",
       "      <td>15602</td>\n",
       "      <td>en</td>\n",
       "      <td>A family wedding reignites the ancient feud between next-door neighbors and fishing buddies John...</td>\n",
       "      <td>11.7129</td>\n",
       "      <td>/6ksm1sjKMFLbO7UY2i6G1ju9SML.jpg</td>\n",
       "      <td>[{'name': 'Warner Bros.', 'id': 6194}, {'name': 'Lancaster Gate', 'id': 19464}]</td>\n",
       "      <td>...</td>\n",
       "      <td>101.0</td>\n",
       "      <td>[{'iso_639_1': 'en', 'name': 'English'}]</td>\n",
       "      <td>Released</td>\n",
       "      <td>Still Yelling. Still Fighting. Still Ready for Love.</td>\n",
       "      <td>Grumpier Old Men</td>\n",
       "      <td>False</td>\n",
       "      <td>6.5</td>\n",
       "      <td>92.0</td>\n",
       "      <td>NaN</td>\n",
       "      <td>1995</td>\n",
       "    </tr>\n",
       "    <tr>\n",
       "      <th>3</th>\n",
       "      <td>NaN</td>\n",
       "      <td>16000000.0</td>\n",
       "      <td>[{'id': 35, 'name': 'Comedy'}, {'id': 18, 'name': 'Drama'}, {'id': 10749, 'name': 'Romance'}]</td>\n",
       "      <td>NaN</td>\n",
       "      <td>31357</td>\n",
       "      <td>en</td>\n",
       "      <td>Cheated on, mistreated and stepped on, the women are holding their breath, waiting for the elusi...</td>\n",
       "      <td>3.859495</td>\n",
       "      <td>/16XOMpEaLWkrcPqSQqhTmeJuqQl.jpg</td>\n",
       "      <td>[{'name': 'Twentieth Century Fox Film Corporation', 'id': 306}]</td>\n",
       "      <td>...</td>\n",
       "      <td>127.0</td>\n",
       "      <td>[{'iso_639_1': 'en', 'name': 'English'}]</td>\n",
       "      <td>Released</td>\n",
       "      <td>Friends are the people who let you be yourself... and never let you forget it.</td>\n",
       "      <td>Waiting to Exhale</td>\n",
       "      <td>False</td>\n",
       "      <td>6.1</td>\n",
       "      <td>34.0</td>\n",
       "      <td>5.090760</td>\n",
       "      <td>1995</td>\n",
       "    </tr>\n",
       "    <tr>\n",
       "      <th>4</th>\n",
       "      <td>{'id': 96871, 'name': 'Father of the Bride Collection', 'poster_path': '/nts4iOmNnq7GNicycMJ9pSA...</td>\n",
       "      <td>NaN</td>\n",
       "      <td>[{'id': 35, 'name': 'Comedy'}]</td>\n",
       "      <td>NaN</td>\n",
       "      <td>11862</td>\n",
       "      <td>en</td>\n",
       "      <td>Just when George Banks has recovered from his daughter's wedding, he receives the news that she'...</td>\n",
       "      <td>8.387519</td>\n",
       "      <td>/e64sOI48hQXyru7naBFyssKFxVd.jpg</td>\n",
       "      <td>[{'name': 'Sandollar Productions', 'id': 5842}, {'name': 'Touchstone Pictures', 'id': 9195}]</td>\n",
       "      <td>...</td>\n",
       "      <td>106.0</td>\n",
       "      <td>[{'iso_639_1': 'en', 'name': 'English'}]</td>\n",
       "      <td>Released</td>\n",
       "      <td>Just When His World Is Back To Normal... He's In For The Surprise Of His Life!</td>\n",
       "      <td>Father of the Bride Part II</td>\n",
       "      <td>False</td>\n",
       "      <td>5.7</td>\n",
       "      <td>173.0</td>\n",
       "      <td>NaN</td>\n",
       "      <td>1995</td>\n",
       "    </tr>\n",
       "    <tr>\n",
       "      <th>...</th>\n",
       "      <td>...</td>\n",
       "      <td>...</td>\n",
       "      <td>...</td>\n",
       "      <td>...</td>\n",
       "      <td>...</td>\n",
       "      <td>...</td>\n",
       "      <td>...</td>\n",
       "      <td>...</td>\n",
       "      <td>...</td>\n",
       "      <td>...</td>\n",
       "      <td>...</td>\n",
       "      <td>...</td>\n",
       "      <td>...</td>\n",
       "      <td>...</td>\n",
       "      <td>...</td>\n",
       "      <td>...</td>\n",
       "      <td>...</td>\n",
       "      <td>...</td>\n",
       "      <td>...</td>\n",
       "      <td>...</td>\n",
       "      <td>...</td>\n",
       "    </tr>\n",
       "    <tr>\n",
       "      <th>45461</th>\n",
       "      <td>NaN</td>\n",
       "      <td>NaN</td>\n",
       "      <td>[{'id': 18, 'name': 'Drama'}, {'id': 10751, 'name': 'Family'}]</td>\n",
       "      <td>http://www.imdb.com/title/tt6209470/</td>\n",
       "      <td>439050</td>\n",
       "      <td>fa</td>\n",
       "      <td>Rising and falling between a man and woman.</td>\n",
       "      <td>0.072051</td>\n",
       "      <td>/jldsYflnId4tTWPx8es3uzsB1I8.jpg</td>\n",
       "      <td>[]</td>\n",
       "      <td>...</td>\n",
       "      <td>90.0</td>\n",
       "      <td>[{'iso_639_1': 'fa', 'name': 'فارسی'}]</td>\n",
       "      <td>Released</td>\n",
       "      <td>Rising and falling between a man and woman</td>\n",
       "      <td>Subdue</td>\n",
       "      <td>False</td>\n",
       "      <td>4.0</td>\n",
       "      <td>1.0</td>\n",
       "      <td>NaN</td>\n",
       "      <td>NaT</td>\n",
       "    </tr>\n",
       "    <tr>\n",
       "      <th>45462</th>\n",
       "      <td>NaN</td>\n",
       "      <td>NaN</td>\n",
       "      <td>[{'id': 18, 'name': 'Drama'}]</td>\n",
       "      <td>NaN</td>\n",
       "      <td>111109</td>\n",
       "      <td>tl</td>\n",
       "      <td>An artist struggles to finish his work while a storyline about a cult plays in his head.</td>\n",
       "      <td>0.178241</td>\n",
       "      <td>/xZkmxsNmYXJbKVsTRLLx3pqGHx7.jpg</td>\n",
       "      <td>[{'name': 'Sine Olivia', 'id': 19653}]</td>\n",
       "      <td>...</td>\n",
       "      <td>360.0</td>\n",
       "      <td>[{'iso_639_1': 'tl', 'name': ''}]</td>\n",
       "      <td>Released</td>\n",
       "      <td>NaN</td>\n",
       "      <td>Century of Birthing</td>\n",
       "      <td>False</td>\n",
       "      <td>9.0</td>\n",
       "      <td>3.0</td>\n",
       "      <td>NaN</td>\n",
       "      <td>2011</td>\n",
       "    </tr>\n",
       "    <tr>\n",
       "      <th>45463</th>\n",
       "      <td>NaN</td>\n",
       "      <td>NaN</td>\n",
       "      <td>[{'id': 28, 'name': 'Action'}, {'id': 18, 'name': 'Drama'}, {'id': 53, 'name': 'Thriller'}]</td>\n",
       "      <td>NaN</td>\n",
       "      <td>67758</td>\n",
       "      <td>en</td>\n",
       "      <td>When one of her hits goes wrong, a professional assassin ends up with a suitcase full of a milli...</td>\n",
       "      <td>0.903007</td>\n",
       "      <td>/d5bX92nDsISNhu3ZT69uHwmfCGw.jpg</td>\n",
       "      <td>[{'name': 'American World Pictures', 'id': 6165}]</td>\n",
       "      <td>...</td>\n",
       "      <td>90.0</td>\n",
       "      <td>[{'iso_639_1': 'en', 'name': 'English'}]</td>\n",
       "      <td>Released</td>\n",
       "      <td>A deadly game of wits.</td>\n",
       "      <td>Betrayal</td>\n",
       "      <td>False</td>\n",
       "      <td>3.8</td>\n",
       "      <td>6.0</td>\n",
       "      <td>NaN</td>\n",
       "      <td>2003</td>\n",
       "    </tr>\n",
       "    <tr>\n",
       "      <th>45464</th>\n",
       "      <td>NaN</td>\n",
       "      <td>NaN</td>\n",
       "      <td>[]</td>\n",
       "      <td>NaN</td>\n",
       "      <td>227506</td>\n",
       "      <td>en</td>\n",
       "      <td>In a small town live two brothers, one a minister and the other one a hunchback painter of the c...</td>\n",
       "      <td>0.003503</td>\n",
       "      <td>/aorBPO7ak8e8iJKT5OcqYxU3jlK.jpg</td>\n",
       "      <td>[{'name': 'Yermoliev', 'id': 88753}]</td>\n",
       "      <td>...</td>\n",
       "      <td>87.0</td>\n",
       "      <td>[]</td>\n",
       "      <td>Released</td>\n",
       "      <td>NaN</td>\n",
       "      <td>Satan Triumphant</td>\n",
       "      <td>False</td>\n",
       "      <td>0.0</td>\n",
       "      <td>0.0</td>\n",
       "      <td>NaN</td>\n",
       "      <td>1917</td>\n",
       "    </tr>\n",
       "    <tr>\n",
       "      <th>45465</th>\n",
       "      <td>NaN</td>\n",
       "      <td>NaN</td>\n",
       "      <td>[]</td>\n",
       "      <td>NaN</td>\n",
       "      <td>461257</td>\n",
       "      <td>en</td>\n",
       "      <td>50 years after decriminalisation of homosexuality in the UK, director Daisy Asquith mines the je...</td>\n",
       "      <td>0.163015</td>\n",
       "      <td>/s5UkZt6NTsrS7ZF0Rh8nzupRlIU.jpg</td>\n",
       "      <td>[]</td>\n",
       "      <td>...</td>\n",
       "      <td>75.0</td>\n",
       "      <td>[{'iso_639_1': 'en', 'name': 'English'}]</td>\n",
       "      <td>Released</td>\n",
       "      <td>NaN</td>\n",
       "      <td>Queerama</td>\n",
       "      <td>False</td>\n",
       "      <td>0.0</td>\n",
       "      <td>0.0</td>\n",
       "      <td>NaN</td>\n",
       "      <td>2017</td>\n",
       "    </tr>\n",
       "  </tbody>\n",
       "</table>\n",
       "<p>45466 rows × 23 columns</p>\n",
       "</div>"
      ],
      "text/plain": [
       "                                                                                     belongs_to_collection  \\\n",
       "0      {'id': 10194, 'name': 'Toy Story Collection', 'poster_path': '/7G9915LfUQ2lVfwMEEhDsn3kT4B.jpg',...   \n",
       "1                                                                                                      NaN   \n",
       "2      {'id': 119050, 'name': 'Grumpy Old Men Collection', 'poster_path': '/nLvUdqgPgm3F85NMCii9gVFUcet...   \n",
       "3                                                                                                      NaN   \n",
       "4      {'id': 96871, 'name': 'Father of the Bride Collection', 'poster_path': '/nts4iOmNnq7GNicycMJ9pSA...   \n",
       "...                                                                                                    ...   \n",
       "45461                                                                                                  NaN   \n",
       "45462                                                                                                  NaN   \n",
       "45463                                                                                                  NaN   \n",
       "45464                                                                                                  NaN   \n",
       "45465                                                                                                  NaN   \n",
       "\n",
       "           budget  \\\n",
       "0      30000000.0   \n",
       "1      65000000.0   \n",
       "2             NaN   \n",
       "3      16000000.0   \n",
       "4             NaN   \n",
       "...           ...   \n",
       "45461         NaN   \n",
       "45462         NaN   \n",
       "45463         NaN   \n",
       "45464         NaN   \n",
       "45465         NaN   \n",
       "\n",
       "                                                                                                  genres  \\\n",
       "0       [{'id': 16, 'name': 'Animation'}, {'id': 35, 'name': 'Comedy'}, {'id': 10751, 'name': 'Family'}]   \n",
       "1      [{'id': 12, 'name': 'Adventure'}, {'id': 14, 'name': 'Fantasy'}, {'id': 10751, 'name': 'Family'}]   \n",
       "2                                       [{'id': 10749, 'name': 'Romance'}, {'id': 35, 'name': 'Comedy'}]   \n",
       "3          [{'id': 35, 'name': 'Comedy'}, {'id': 18, 'name': 'Drama'}, {'id': 10749, 'name': 'Romance'}]   \n",
       "4                                                                         [{'id': 35, 'name': 'Comedy'}]   \n",
       "...                                                                                                  ...   \n",
       "45461                                     [{'id': 18, 'name': 'Drama'}, {'id': 10751, 'name': 'Family'}]   \n",
       "45462                                                                      [{'id': 18, 'name': 'Drama'}]   \n",
       "45463        [{'id': 28, 'name': 'Action'}, {'id': 18, 'name': 'Drama'}, {'id': 53, 'name': 'Thriller'}]   \n",
       "45464                                                                                                 []   \n",
       "45465                                                                                                 []   \n",
       "\n",
       "                                   homepage      id original_language  \\\n",
       "0      http://toystory.disney.com/toy-story     862                en   \n",
       "1                                       NaN    8844                en   \n",
       "2                                       NaN   15602                en   \n",
       "3                                       NaN   31357                en   \n",
       "4                                       NaN   11862                en   \n",
       "...                                     ...     ...               ...   \n",
       "45461  http://www.imdb.com/title/tt6209470/  439050                fa   \n",
       "45462                                   NaN  111109                tl   \n",
       "45463                                   NaN   67758                en   \n",
       "45464                                   NaN  227506                en   \n",
       "45465                                   NaN  461257                en   \n",
       "\n",
       "                                                                                                  overview  \\\n",
       "0      Led by Woody, Andy's toys live happily in his room until Andy's birthday brings Buzz Lightyear o...   \n",
       "1      When siblings Judy and Peter discover an enchanted board game that opens the door to a magical w...   \n",
       "2      A family wedding reignites the ancient feud between next-door neighbors and fishing buddies John...   \n",
       "3      Cheated on, mistreated and stepped on, the women are holding their breath, waiting for the elusi...   \n",
       "4      Just when George Banks has recovered from his daughter's wedding, he receives the news that she'...   \n",
       "...                                                                                                    ...   \n",
       "45461                                                          Rising and falling between a man and woman.   \n",
       "45462             An artist struggles to finish his work while a storyline about a cult plays in his head.   \n",
       "45463  When one of her hits goes wrong, a professional assassin ends up with a suitcase full of a milli...   \n",
       "45464  In a small town live two brothers, one a minister and the other one a hunchback painter of the c...   \n",
       "45465  50 years after decriminalisation of homosexuality in the UK, director Daisy Asquith mines the je...   \n",
       "\n",
       "      popularity                       poster_path  \\\n",
       "0      21.946943  /rhIRbceoE9lR4veEXuwCC2wARtG.jpg   \n",
       "1      17.015539  /vzmL6fP7aPKNKPRTFnZmiUfciyV.jpg   \n",
       "2        11.7129  /6ksm1sjKMFLbO7UY2i6G1ju9SML.jpg   \n",
       "3       3.859495  /16XOMpEaLWkrcPqSQqhTmeJuqQl.jpg   \n",
       "4       8.387519  /e64sOI48hQXyru7naBFyssKFxVd.jpg   \n",
       "...          ...                               ...   \n",
       "45461   0.072051  /jldsYflnId4tTWPx8es3uzsB1I8.jpg   \n",
       "45462   0.178241  /xZkmxsNmYXJbKVsTRLLx3pqGHx7.jpg   \n",
       "45463   0.903007  /d5bX92nDsISNhu3ZT69uHwmfCGw.jpg   \n",
       "45464   0.003503  /aorBPO7ak8e8iJKT5OcqYxU3jlK.jpg   \n",
       "45465   0.163015  /s5UkZt6NTsrS7ZF0Rh8nzupRlIU.jpg   \n",
       "\n",
       "                                                                                      production_companies  \\\n",
       "0                                                           [{'name': 'Pixar Animation Studios', 'id': 3}]   \n",
       "1      [{'name': 'TriStar Pictures', 'id': 559}, {'name': 'Teitler Film', 'id': 2550}, {'name': 'Inters...   \n",
       "2                          [{'name': 'Warner Bros.', 'id': 6194}, {'name': 'Lancaster Gate', 'id': 19464}]   \n",
       "3                                          [{'name': 'Twentieth Century Fox Film Corporation', 'id': 306}]   \n",
       "4             [{'name': 'Sandollar Productions', 'id': 5842}, {'name': 'Touchstone Pictures', 'id': 9195}]   \n",
       "...                                                                                                    ...   \n",
       "45461                                                                                                   []   \n",
       "45462                                                               [{'name': 'Sine Olivia', 'id': 19653}]   \n",
       "45463                                                    [{'name': 'American World Pictures', 'id': 6165}]   \n",
       "45464                                                                 [{'name': 'Yermoliev', 'id': 88753}]   \n",
       "45465                                                                                                   []   \n",
       "\n",
       "       ... runtime  \\\n",
       "0      ...    81.0   \n",
       "1      ...   104.0   \n",
       "2      ...   101.0   \n",
       "3      ...   127.0   \n",
       "4      ...   106.0   \n",
       "...    ...     ...   \n",
       "45461  ...    90.0   \n",
       "45462  ...   360.0   \n",
       "45463  ...    90.0   \n",
       "45464  ...    87.0   \n",
       "45465  ...    75.0   \n",
       "\n",
       "                                                                        spoken_languages  \\\n",
       "0                                               [{'iso_639_1': 'en', 'name': 'English'}]   \n",
       "1      [{'iso_639_1': 'en', 'name': 'English'}, {'iso_639_1': 'fr', 'name': 'Français'}]   \n",
       "2                                               [{'iso_639_1': 'en', 'name': 'English'}]   \n",
       "3                                               [{'iso_639_1': 'en', 'name': 'English'}]   \n",
       "4                                               [{'iso_639_1': 'en', 'name': 'English'}]   \n",
       "...                                                                                  ...   \n",
       "45461                                             [{'iso_639_1': 'fa', 'name': 'فارسی'}]   \n",
       "45462                                                  [{'iso_639_1': 'tl', 'name': ''}]   \n",
       "45463                                           [{'iso_639_1': 'en', 'name': 'English'}]   \n",
       "45464                                                                                 []   \n",
       "45465                                           [{'iso_639_1': 'en', 'name': 'English'}]   \n",
       "\n",
       "         status  \\\n",
       "0      Released   \n",
       "1      Released   \n",
       "2      Released   \n",
       "3      Released   \n",
       "4      Released   \n",
       "...         ...   \n",
       "45461  Released   \n",
       "45462  Released   \n",
       "45463  Released   \n",
       "45464  Released   \n",
       "45465  Released   \n",
       "\n",
       "                                                                              tagline  \\\n",
       "0                                                                                 NaN   \n",
       "1                                           Roll the dice and unleash the excitement!   \n",
       "2                                Still Yelling. Still Fighting. Still Ready for Love.   \n",
       "3      Friends are the people who let you be yourself... and never let you forget it.   \n",
       "4      Just When His World Is Back To Normal... He's In For The Surprise Of His Life!   \n",
       "...                                                                               ...   \n",
       "45461                                      Rising and falling between a man and woman   \n",
       "45462                                                                             NaN   \n",
       "45463                                                          A deadly game of wits.   \n",
       "45464                                                                             NaN   \n",
       "45465                                                                             NaN   \n",
       "\n",
       "                             title  video vote_average vote_count     return  \\\n",
       "0                        Toy Story  False          7.7     5415.0  12.451801   \n",
       "1                          Jumanji  False          6.9     2413.0   4.043035   \n",
       "2                 Grumpier Old Men  False          6.5       92.0        NaN   \n",
       "3                Waiting to Exhale  False          6.1       34.0   5.090760   \n",
       "4      Father of the Bride Part II  False          5.7      173.0        NaN   \n",
       "...                            ...    ...          ...        ...        ...   \n",
       "45461                       Subdue  False          4.0        1.0        NaN   \n",
       "45462          Century of Birthing  False          9.0        3.0        NaN   \n",
       "45463                     Betrayal  False          3.8        6.0        NaN   \n",
       "45464             Satan Triumphant  False          0.0        0.0        NaN   \n",
       "45465                     Queerama  False          0.0        0.0        NaN   \n",
       "\n",
       "       year  \n",
       "0      1995  \n",
       "1      1995  \n",
       "2      1995  \n",
       "3      1995  \n",
       "4      1995  \n",
       "...     ...  \n",
       "45461   NaT  \n",
       "45462  2011  \n",
       "45463  2003  \n",
       "45464  1917  \n",
       "45465  2017  \n",
       "\n",
       "[45466 rows x 23 columns]"
      ]
     },
     "execution_count": 1010,
     "metadata": {},
     "output_type": "execute_result"
    }
   ],
   "source": [
    "df.drop(['adult'],axis=1)"
   ]
  },
  {
   "cell_type": "code",
   "execution_count": 1011,
   "metadata": {},
   "outputs": [],
   "source": [
    "url = 'http://image.tmdb.org/t/p/w185/'\n",
    "df['poster_path'] = df['poster_path'].apply(lambda x: f\"<img src='{url}{x}' style='height:100px;'>\")\n"
   ]
  },
  {
   "attachments": {},
   "cell_type": "markdown",
   "metadata": {},
   "source": [
    "# Exploratory Data Analysis"
   ]
  },
  {
   "attachments": {},
   "cell_type": "markdown",
   "metadata": {},
   "source": [
    "### Movies Production Countries"
   ]
  },
  {
   "cell_type": "code",
   "execution_count": 1012,
   "metadata": {},
   "outputs": [
    {
     "name": "stderr",
     "output_type": "stream",
     "text": [
      "C:\\Users\\fatem\\AppData\\Local\\Temp\\ipykernel_4784\\29661398.py:3: FutureWarning:\n",
      "\n",
      "The default dtype for empty Series will be 'object' instead of 'float64' in a future version. Specify a dtype explicitly to silence this warning.\n",
      "\n"
     ]
    }
   ],
   "source": [
    "df['production_countries'] = df['production_countries'].fillna('[]').apply(ast.literal_eval)\n",
    "df['production_countries'] = df['production_countries'].apply(lambda x: [i['name'] for i in x] if isinstance(x, list) else [])\n",
    "a = df.apply(lambda x: pd.Series(x['production_countries']),axis=1).stack().reset_index(level=1, drop=True)\n",
    "a.name = 'countries'\n",
    "#These two lines of code first convert the 'production_countries' column from string representation\n",
    "#  to a list of dictionaries using the ast.literal_eval() method. Then, it extracts the names of the countries\n",
    "#  from the list of dictionaries using a lambda function and stores them in a new 'production_countries' column. \n",
    "# This process allows us to work with the 'production_countries' feature as a list of countries."
   ]
  },
  {
   "cell_type": "code",
   "execution_count": 1013,
   "metadata": {},
   "outputs": [
    {
     "data": {
      "text/html": [
       "<div>\n",
       "<style scoped>\n",
       "    .dataframe tbody tr th:only-of-type {\n",
       "        vertical-align: middle;\n",
       "    }\n",
       "\n",
       "    .dataframe tbody tr th {\n",
       "        vertical-align: top;\n",
       "    }\n",
       "\n",
       "    .dataframe thead th {\n",
       "        text-align: right;\n",
       "    }\n",
       "</style>\n",
       "<table border=\"1\" class=\"dataframe\">\n",
       "  <thead>\n",
       "    <tr style=\"text-align: right;\">\n",
       "      <th></th>\n",
       "      <th>num_movies</th>\n",
       "      <th>country</th>\n",
       "    </tr>\n",
       "  </thead>\n",
       "  <tbody>\n",
       "    <tr>\n",
       "      <th>0</th>\n",
       "      <td>21153</td>\n",
       "      <td>United States of America</td>\n",
       "    </tr>\n",
       "    <tr>\n",
       "      <th>1</th>\n",
       "      <td>4094</td>\n",
       "      <td>United Kingdom</td>\n",
       "    </tr>\n",
       "    <tr>\n",
       "      <th>2</th>\n",
       "      <td>3940</td>\n",
       "      <td>France</td>\n",
       "    </tr>\n",
       "    <tr>\n",
       "      <th>3</th>\n",
       "      <td>2254</td>\n",
       "      <td>Germany</td>\n",
       "    </tr>\n",
       "    <tr>\n",
       "      <th>4</th>\n",
       "      <td>2169</td>\n",
       "      <td>Italy</td>\n",
       "    </tr>\n",
       "    <tr>\n",
       "      <th>5</th>\n",
       "      <td>1765</td>\n",
       "      <td>Canada</td>\n",
       "    </tr>\n",
       "    <tr>\n",
       "      <th>6</th>\n",
       "      <td>1648</td>\n",
       "      <td>Japan</td>\n",
       "    </tr>\n",
       "    <tr>\n",
       "      <th>7</th>\n",
       "      <td>964</td>\n",
       "      <td>Spain</td>\n",
       "    </tr>\n",
       "    <tr>\n",
       "      <th>8</th>\n",
       "      <td>912</td>\n",
       "      <td>Russia</td>\n",
       "    </tr>\n",
       "    <tr>\n",
       "      <th>9</th>\n",
       "      <td>828</td>\n",
       "      <td>India</td>\n",
       "    </tr>\n",
       "  </tbody>\n",
       "</table>\n",
       "</div>"
      ],
      "text/plain": [
       "   num_movies                   country\n",
       "0       21153  United States of America\n",
       "1        4094            United Kingdom\n",
       "2        3940                    France\n",
       "3        2254                   Germany\n",
       "4        2169                     Italy\n",
       "5        1765                    Canada\n",
       "6        1648                     Japan\n",
       "7         964                     Spain\n",
       "8         912                    Russia\n",
       "9         828                     India"
      ]
     },
     "execution_count": 1013,
     "metadata": {},
     "output_type": "execute_result"
    }
   ],
   "source": [
    "new_df = df.drop('production_countries', axis=1).join(a)\n",
    "new_df = pd.DataFrame(new_df['countries'].value_counts())\n",
    "new_df['country'] = new_df.index\n",
    "new_df.columns = ['num_movies', 'country']\n",
    "new_df = new_df.reset_index().drop('index', axis=1)\n",
    "new_df.head(10)"
   ]
  },
  {
   "attachments": {},
   "cell_type": "markdown",
   "metadata": {},
   "source": []
  },
  {
   "cell_type": "code",
   "execution_count": 1014,
   "metadata": {},
   "outputs": [],
   "source": [
    "new_df = new_df[new_df['country'] != 'United States of America']"
   ]
  },
  {
   "cell_type": "code",
   "execution_count": 1015,
   "metadata": {},
   "outputs": [
    {
     "data": {
      "application/vnd.plotly.v1+json": {
       "config": {
        "linkText": "Export to plot.ly",
        "plotlyServerURL": "https://plot.ly",
        "showLink": false
       },
       "data": [
        {
         "autocolorscale": false,
         "colorbar": {
          "autotick": false,
          "tickprefix": "",
          "title": "Countries Production "
         },
         "colorscale": "Reds",
         "locationmode": "country names",
         "locations": [
          "United Kingdom",
          "France",
          "Germany",
          "Italy",
          "Canada",
          "Japan",
          "Spain",
          "Russia",
          "India",
          "Hong Kong",
          "Sweden",
          "Australia",
          "South Korea",
          "Belgium",
          "Denmark",
          "Finland",
          "Netherlands",
          "China",
          "Mexico",
          "Poland",
          "Brazil",
          "Switzerland",
          "Argentina",
          "Ireland",
          "Austria",
          "Czech Republic",
          "Norway",
          "Hungary",
          "Greece",
          "Turkey",
          "Israel",
          "Romania",
          "Taiwan",
          "Portugal",
          "South Africa",
          "New Zealand",
          "Thailand",
          "Serbia",
          "Iran",
          "Luxembourg",
          "Philippines",
          "Croatia",
          "Chile",
          "Iceland",
          "Estonia",
          "Bulgaria",
          "Ukraine",
          "Singapore",
          "Lithuania",
          "Bosnia and Herzegovina",
          "Colombia",
          "Indonesia",
          "Morocco",
          "Slovenia",
          "Georgia",
          "Slovakia",
          "Peru",
          "Latvia",
          "United Arab Emirates",
          "Egypt",
          "Cuba",
          "Kazakhstan",
          "Soviet Union",
          "Venezuela",
          "Pakistan",
          "Uruguay",
          "Tunisia",
          "Macedonia",
          "Lebanon",
          "Qatar",
          "Senegal",
          "Algeria",
          "Puerto Rico",
          "Malaysia",
          "Palestinian Territory",
          "Ecuador",
          "Bolivia",
          "Burkina Faso",
          "Vietnam",
          "Jordan",
          "Cambodia",
          "Belarus",
          "Malta",
          "Armenia",
          "Dominican Republic",
          "Liechtenstein",
          "Afghanistan",
          "Iraq",
          "Montenegro",
          "Panama",
          "Cyprus",
          "Aruba",
          "Kyrgyz Republic",
          "Nepal",
          "Nigeria",
          "East Germany",
          "Guatemala",
          "Costa Rica",
          "Uzbekistan",
          "Mauritania",
          "Ethiopia",
          "Syrian Arab Republic",
          "Bahamas",
          "Cameroon",
          "Albania",
          "Congo",
          "Rwanda",
          "Jamaica",
          "Chad",
          "Bhutan",
          "Ghana",
          "Monaco",
          "Yugoslavia",
          "Czechoslovakia",
          "North Korea",
          "Kenya",
          "Sri Lanka",
          "Lao People's Democratic Republic",
          "El Salvador",
          "Angola",
          "Libyan Arab Jamahiriya",
          "Liberia",
          "Paraguay",
          "Botswana",
          "Namibia",
          "Nicaragua",
          "Tajikistan",
          "Mongolia",
          "Serbia and Montenegro",
          "Zimbabwe",
          "Macao",
          "Papua New Guinea",
          "Bangladesh",
          "Uganda",
          "Saudi Arabia",
          "Tanzania",
          "Mali",
          "Trinidad and Tobago",
          "Cote D'Ivoire",
          "Azerbaijan",
          "Samoa",
          "Moldova",
          "Antarctica",
          "Barbados",
          "Gibraltar",
          "Brunei Darussalam",
          "Honduras",
          "French Southern Territories",
          "Cayman Islands",
          "Bermuda",
          "Myanmar",
          "Netherlands Antilles",
          "French Polynesia",
          "United States Minor Outlying Islands",
          "Madagascar",
          "Somalia",
          "Kuwait",
          "Martinique",
          "Guinea"
         ],
         "marker": {
          "line": {
           "color": "rgb(255, 255, 255)",
           "width": 0.5
          }
         },
         "reversescale": false,
         "text": [
          "United Kingdom",
          "France",
          "Germany",
          "Italy",
          "Canada",
          "Japan",
          "Spain",
          "Russia",
          "India",
          "Hong Kong",
          "Sweden",
          "Australia",
          "South Korea",
          "Belgium",
          "Denmark",
          "Finland",
          "Netherlands",
          "China",
          "Mexico",
          "Poland",
          "Brazil",
          "Switzerland",
          "Argentina",
          "Ireland",
          "Austria",
          "Czech Republic",
          "Norway",
          "Hungary",
          "Greece",
          "Turkey",
          "Israel",
          "Romania",
          "Taiwan",
          "Portugal",
          "South Africa",
          "New Zealand",
          "Thailand",
          "Serbia",
          "Iran",
          "Luxembourg",
          "Philippines",
          "Croatia",
          "Chile",
          "Iceland",
          "Estonia",
          "Bulgaria",
          "Ukraine",
          "Singapore",
          "Lithuania",
          "Bosnia and Herzegovina",
          "Colombia",
          "Indonesia",
          "Morocco",
          "Slovenia",
          "Georgia",
          "Slovakia",
          "Peru",
          "Latvia",
          "United Arab Emirates",
          "Egypt",
          "Cuba",
          "Kazakhstan",
          "Soviet Union",
          "Venezuela",
          "Pakistan",
          "Uruguay",
          "Tunisia",
          "Macedonia",
          "Lebanon",
          "Qatar",
          "Senegal",
          "Algeria",
          "Puerto Rico",
          "Malaysia",
          "Palestinian Territory",
          "Ecuador",
          "Bolivia",
          "Burkina Faso",
          "Vietnam",
          "Jordan",
          "Cambodia",
          "Belarus",
          "Malta",
          "Armenia",
          "Dominican Republic",
          "Liechtenstein",
          "Afghanistan",
          "Iraq",
          "Montenegro",
          "Panama",
          "Cyprus",
          "Aruba",
          "Kyrgyz Republic",
          "Nepal",
          "Nigeria",
          "East Germany",
          "Guatemala",
          "Costa Rica",
          "Uzbekistan",
          "Mauritania",
          "Ethiopia",
          "Syrian Arab Republic",
          "Bahamas",
          "Cameroon",
          "Albania",
          "Congo",
          "Rwanda",
          "Jamaica",
          "Chad",
          "Bhutan",
          "Ghana",
          "Monaco",
          "Yugoslavia",
          "Czechoslovakia",
          "North Korea",
          "Kenya",
          "Sri Lanka",
          "Lao People's Democratic Republic",
          "El Salvador",
          "Angola",
          "Libyan Arab Jamahiriya",
          "Liberia",
          "Paraguay",
          "Botswana",
          "Namibia",
          "Nicaragua",
          "Tajikistan",
          "Mongolia",
          "Serbia and Montenegro",
          "Zimbabwe",
          "Macao",
          "Papua New Guinea",
          "Bangladesh",
          "Uganda",
          "Saudi Arabia",
          "Tanzania",
          "Mali",
          "Trinidad and Tobago",
          "Cote D'Ivoire",
          "Azerbaijan",
          "Samoa",
          "Moldova",
          "Antarctica",
          "Barbados",
          "Gibraltar",
          "Brunei Darussalam",
          "Honduras",
          "French Southern Territories",
          "Cayman Islands",
          "Bermuda",
          "Myanmar",
          "Netherlands Antilles",
          "French Polynesia",
          "United States Minor Outlying Islands",
          "Madagascar",
          "Somalia",
          "Kuwait",
          "Martinique",
          "Guinea"
         ],
         "type": "choropleth",
         "z": [
          4094,
          3940,
          2254,
          2169,
          1765,
          1648,
          964,
          912,
          828,
          596,
          588,
          570,
          495,
          447,
          386,
          383,
          375,
          372,
          329,
          319,
          291,
          254,
          254,
          225,
          209,
          209,
          203,
          175,
          169,
          165,
          147,
          142,
          129,
          128,
          125,
          123,
          116,
          106,
          106,
          90,
          83,
          78,
          68,
          68,
          59,
          56,
          55,
          41,
          36,
          35,
          34,
          33,
          33,
          32,
          30,
          30,
          30,
          29,
          27,
          25,
          25,
          23,
          20,
          19,
          18,
          18,
          18,
          15,
          15,
          14,
          14,
          13,
          13,
          13,
          11,
          10,
          10,
          10,
          10,
          9,
          9,
          9,
          9,
          8,
          8,
          8,
          8,
          8,
          7,
          7,
          7,
          6,
          6,
          6,
          6,
          6,
          6,
          6,
          6,
          5,
          5,
          5,
          5,
          5,
          5,
          5,
          4,
          4,
          4,
          4,
          4,
          4,
          4,
          4,
          3,
          3,
          3,
          3,
          3,
          3,
          3,
          3,
          3,
          3,
          3,
          3,
          3,
          3,
          3,
          3,
          2,
          2,
          2,
          2,
          2,
          2,
          2,
          2,
          2,
          2,
          1,
          1,
          1,
          1,
          1,
          1,
          1,
          1,
          1,
          1,
          1,
          1,
          1,
          1,
          1,
          1,
          1,
          1,
          1
         ]
        }
       ],
       "layout": {
        "geo": {
         "projection": {
          "type": "Mercator"
         },
         "showcoastlines": false,
         "showframe": false
        },
        "title": "Take a look at the countries where the movies in the MovieLens dataset were produced"
       }
      }
     },
     "metadata": {},
     "output_type": "display_data"
    }
   ],
   "source": [
    "data = [dict(\n",
    "        type = 'choropleth',\n",
    "        locations = new_df['country'],\n",
    "        locationmode ='country names',\n",
    "        z = new_df['num_movies'],\n",
    "        text = new_df['country'],\n",
    "        colorscale = 'Reds',\n",
    "        autocolorscale = False,\n",
    "        reversescale = False,\n",
    "        marker = dict(\n",
    "            line = dict (\n",
    "                color = 'rgb(255, 255, 255)',\n",
    "                width = 0.5\n",
    "            ) ),\n",
    "        colorbar = dict(\n",
    "            autotick = False,\n",
    "            tickprefix = '',\n",
    "            title = 'Countries Production '),\n",
    "      ) ]\n",
    "layout = dict(\n",
    "    title = 'Take a look at the countries where the movies in the MovieLens dataset were produced',\n",
    "    geo = dict(\n",
    "        showframe = False,\n",
    "        showcoastlines = False,\n",
    "        projection = dict(\n",
    "            type = 'Mercator'\n",
    "        )\n",
    "    )\n",
    ")\n",
    "\n",
    "fig = dict( data=data, layout=layout )\n",
    "py.iplot( fig, validate=False, filename='d3-world-map' )"
   ]
  },
  {
   "attachments": {},
   "cell_type": "markdown",
   "metadata": {},
   "source": [
    "It is not surprising to find out that the United States is the most popular destination for movie production in the dataset, considering the majority of the movies are in English. Among the top 5 countries, Europe stands out as a highly popular location with the UK, France, Germany, and Italy. Additionally, Japan and India are the two most favored Asian countries for movie production."
   ]
  },
  {
   "attachments": {},
   "cell_type": "markdown",
   "metadata": {},
   "source": [
    "# Movies Production Companies"
   ]
  },
  {
   "cell_type": "code",
   "execution_count": 1016,
   "metadata": {},
   "outputs": [],
   "source": [
    "df['production_companies'] = df['production_companies'].fillna('[]').apply(ast.literal_eval)\n",
    "df['production_companies'] = df['production_companies'].apply(lambda x: [i['name'] for i in x] if isinstance(x, list) else [])"
   ]
  },
  {
   "cell_type": "code",
   "execution_count": 1017,
   "metadata": {},
   "outputs": [],
   "source": [
    "b = df.apply(lambda x: pd.Series(x['production_companies']),axis=1).stack().reset_index(level=1, drop=True)\n",
    "b.name = 'companies'\n",
    "com_df = df.drop('production_companies', axis=1).join(b)"
   ]
  },
  {
   "cell_type": "code",
   "execution_count": null,
   "metadata": {},
   "outputs": [],
   "source": [
    "new_df = df.drop('production_companies', axis=1).join(b)\n",
    "new_df = pd.DataFrame(new_df['companies'].value_counts())\n",
    "new_df['companies'] = new_df.index\n",
    "new_df.columns = ['companies']\n",
    "new_df = new_df.reset_index().drop('index', axis=1)\n",
    "new_df.head(20)"
   ]
  },
  {
   "cell_type": "code",
   "execution_count": null,
   "metadata": {},
   "outputs": [],
   "source": [
    "com_sum = pd.DataFrame(com_df.groupby('companies')['revenue'].sum().sort_values(ascending=False))\n",
    "com_sum.columns = ['Total']\n",
    "com_mean = pd.DataFrame(com_df.groupby('companies')['revenue'].mean().sort_values(ascending=False))\n",
    "com_mean.columns = ['Average']\n",
    "com_count = pd.DataFrame(com_df.groupby('companies')['revenue'].count().sort_values(ascending=False))\n",
    "com_count.columns = ['Number']\n",
    "com_pivot = pd.concat((com_sum, com_mean, com_count), axis=1)\n",
    "com_pivot.sort_values('Total', ascending=False).head(10)"
   ]
  },
  {
   "attachments": {},
   "cell_type": "markdown",
   "metadata": {},
   "source": [
    "# Highest revenue"
   ]
  },
  {
   "attachments": {},
   "cell_type": "markdown",
   "metadata": {},
   "source": [
    "The production company that has earned the highest revenue of all time is Warner Bros, with an impressive total of 63.5 billion dollars from nearly 500 movies. Following closely behind are Universal Pictures and Paramount Pictures, with revenues of 55 billion dollars and 48 billion dollars respectively, making them the second and third highest earning production companies."
   ]
  },
  {
   "cell_type": "code",
   "execution_count": null,
   "metadata": {},
   "outputs": [],
   "source": [
    "com_pivot[com_pivot['Number'] >= 10].sort_values('Average', ascending=False).head(10)"
   ]
  },
  {
   "attachments": {},
   "cell_type": "markdown",
   "metadata": {},
   "source": [
    "The average success rate of production companies in making successful movies  will only take into account the companies that have produced at least 10 movies to ensure statistical significance.\n",
    "When it comes to the most successful production companies in terms of average gross, Pixar Animation Studios takes the top spot.Marvel Studios follows in second place with an average gross of 615 million dollars, thanks to blockbuster hits like Iron Man and The Avengers."
   ]
  },
  {
   "attachments": {},
   "cell_type": "markdown",
   "metadata": {},
   "source": [
    "### Movie series are a huge part of the film industry, with many long-running and successful series. Let's explore the dataset to uncover some insights into the world of franchise movies, including the most successful and longest-running franchises."
   ]
  },
  {
   "cell_type": "code",
   "execution_count": null,
   "metadata": {},
   "outputs": [],
   "source": [
    "df_movie = df[df['belongs_to_collection'].notnull()]\n",
    "df_movie['belongs_to_collection'] = df_movie['belongs_to_collection'].apply(ast.literal_eval).apply(lambda x: x['name'] if isinstance(x, dict) else np.nan)\n",
    "df_movie = df_movie[df_movie['belongs_to_collection'].notnull()]\n",
    "#This creates a new DataFrame df_movie that only includes rows where the 'belongs_to_collection' column is not null \n",
    "# (i.e., where the movie belongs to a collection/franchise).the string representation of a dictionary in the 'belongs_to_collection' \n",
    "# column to an actual dictionary using ast.literal_eval(). It then applies a lambda function to extract the name \n",
    "# of the franchise from the dictionary and create a new column 'belongs_to_collection' that only contains the franchise name \n",
    "# (or NaN if the value is not a dictionary)."
   ]
  },
  {
   "cell_type": "code",
   "execution_count": null,
   "metadata": {},
   "outputs": [],
   "source": [
    "movie_pivot = df_movie.pivot_table(index='belongs_to_collection', values='revenue', aggfunc={'revenue': ['mean', 'sum', 'count']}).reset_index()"
   ]
  },
  {
   "attachments": {},
   "cell_type": "markdown",
   "metadata": {},
   "source": [
    "# Successful Movie series:"
   ]
  },
  {
   "cell_type": "code",
   "execution_count": null,
   "metadata": {},
   "outputs": [],
   "source": [
    "movie_pivot.sort_values('sum', ascending=False).head(10)"
   ]
  },
  {
   "attachments": {},
   "cell_type": "markdown",
   "metadata": {},
   "source": [
    "When it comes to the most successful movie franchises, the Harry Potter series takes the top spot, having earned over 7.707 billion dollars from just 8 films. The Star Wars franchise isn't far behind, coming in a close second with earnings of 7.403 billion dollars from 8 movies. However, it's worth noting that the James Bond franchise has significantly more movies compared to the others on the list, resulting in a much lower average gross despite earning a respectable third place overall."
   ]
  },
  {
   "attachments": {},
   "cell_type": "markdown",
   "metadata": {},
   "source": [
    "# Average Successful Movie series:"
   ]
  },
  {
   "cell_type": "code",
   "execution_count": null,
   "metadata": {},
   "outputs": [],
   "source": [
    "movie_pivot.sort_values('mean', ascending=False).head(10)"
   ]
  },
  {
   "attachments": {},
   "cell_type": "markdown",
   "metadata": {},
   "source": [
    "The Avatar Collection, currently comprising only one movie, has achieved remarkable success, grossing nearly 3 billion dollars. However, in terms of the number of movies produced, the Harry Potter franchise remains the most successful, with at least five movies in the series."
   ]
  },
  {
   "attachments": {},
   "cell_type": "markdown",
   "metadata": {},
   "source": [
    "# Duration:"
   ]
  },
  {
   "cell_type": "code",
   "execution_count": null,
   "metadata": {},
   "outputs": [],
   "source": [
    "movie_pivot.sort_values('count', ascending=False).head(10)"
   ]
  },
  {
   "attachments": {},
   "cell_type": "markdown",
   "metadata": {},
   "source": [
    "The James Bond franchise holds the record for the largest movie franchise ever, with over 26 movies released under its banner. In second and third place are Friday the 13th and Pokemon, with 12 and 11 movies respectively, but still quite far behind James Bond"
   ]
  },
  {
   "attachments": {},
   "cell_type": "markdown",
   "metadata": {},
   "source": [
    "## Moving on to the budget, it is a known fact that it is often a skewed quantity and highly influenced by inflation. However, despite this, analyzing budget can provide valuable insights as it is a crucial factor in predicting the success and revenue of a movie. In order to begin the analysis, let's gather the summary statistics for budget."
   ]
  },
  {
   "cell_type": "code",
   "execution_count": null,
   "metadata": {},
   "outputs": [],
   "source": [
    "df['budget'].describe()"
   ]
  },
  {
   "attachments": {},
   "cell_type": "markdown",
   "metadata": {},
   "source": [
    "These statistics show that the budget data is right-skewed, with a median budget of 8 million dollars and a mean budget of 21.6 million dollars. The standard deviation of 34.3 million indicates a wide range of budget values, with some movies having budgets as low as 1 dollar and as high as 380 million dollars."
   ]
  },
  {
   "cell_type": "code",
   "execution_count": null,
   "metadata": {},
   "outputs": [],
   "source": [
    "sns.set_theme()\n",
    "sns.displot(df[df['budget'].notnull()]['budget'])"
   ]
  },
  {
   "attachments": {},
   "cell_type": "markdown",
   "metadata": {},
   "source": [
    "The plot suggests that most movies have budgets below $50 million, with a significant number of movies having budgets between $0 and $20 million. The plot also shows that the distribution is heavily skewed towards lower budget values, with only a few movies having budgets above $100 million."
   ]
  },
  {
   "cell_type": "code",
   "execution_count": null,
   "metadata": {},
   "outputs": [],
   "source": [
    "df['budget'].plot(logy=True, kind='hist')"
   ]
  },
  {
   "attachments": {},
   "cell_type": "markdown",
   "metadata": {},
   "source": [
    " The logarithmic scale allows for better visualization of the distribution of the data, particularly when there are a large number of values that differ greatly in magnitude. The \"kind='hist'\" argument specifies that the plot should be a histogram, where the data is divided into intervals and the frequency of values within each interval is plotted."
   ]
  },
  {
   "attachments": {},
   "cell_type": "markdown",
   "metadata": {},
   "source": [
    "# Movie ranking:"
   ]
  },
  {
   "attachments": {},
   "cell_type": "markdown",
   "metadata": {},
   "source": [
    "Analyzing the status of movies based on their release can provide insights into the nature of the movies in the dataset. It is interesting to determine the frequency of each status type."
   ]
  },
  {
   "cell_type": "code",
   "execution_count": null,
   "metadata": {},
   "outputs": [],
   "source": [
    "df['status'].value_counts()"
   ]
  },
  {
   "attachments": {},
   "cell_type": "markdown",
   "metadata": {},
   "source": [
    "This code is counting the number of movies for each status of release in the dataset. It shows that the vast majority of movies (45014) have a status of \"Released\", while there are smaller numbers of movies in other categories such as \"Rumored\", \"Post Production\", \"In Production\", \"Planned\", and \"Canceled\"."
   ]
  },
  {
   "attachments": {},
   "cell_type": "markdown",
   "metadata": {},
   "source": [
    "# Total films per year"
   ]
  },
  {
   "cell_type": "code",
   "execution_count": null,
   "metadata": {},
   "outputs": [],
   "source": [
    "year_count = df.groupby('year')['title'].count()\n",
    "plt.figure(figsize=(18,5))\n",
    "year_count.plot()"
   ]
  },
  {
   "attachments": {},
   "cell_type": "markdown",
   "metadata": {},
   "source": [
    "# Analyze the distribution of movie releases over time."
   ]
  },
  {
   "cell_type": "code",
   "execution_count": null,
   "metadata": {},
   "outputs": [],
   "source": [
    "month= ['Jan', 'Feb', 'Mar', 'Apr', 'May', 'Jun', 'Jul', 'Aug', 'Sep', 'Oct', 'Nov', 'Dec']\n",
    "day = ['Mon', 'Tue', 'Wed', 'Thu', 'Fri', 'Sat', 'Sun']                                                                                                 \n",
    "\n",
    "# Define functions to extract month and day from release date\n",
    "def get_month(x):\n",
    "    try:\n",
    "        return month[int(str(x).split('-')[1]) - 1]\n",
    "    except:\n",
    "        return np.nan\n",
    "\n",
    "def get_day(x):\n",
    "    try:\n",
    "        year, month, day = (int(i) for i in x.split('-'))    \n",
    "        answer = datetime.date(year, month, day).weekday()\n",
    "        return day[answer]\n",
    "    except:\n",
    "        return np.nan\n",
    "\n",
    "# Create day and month columns using the defined functions\n",
    "df['day'] = df['release_date'].apply(get_day)\n",
    "df['month'] = df['release_date'].apply(get_month)\n",
    "plt.figure(figsize=(12,6))\n",
    "plt.title(\"Number of Movies Released by Month\")\n",
    "sns.countplot(x='month', data=df, order=month_order)"
   ]
  },
  {
   "attachments": {},
   "cell_type": "markdown",
   "metadata": {},
   "source": [
    "It seems that January is the most preferred month for releasing movies, although it's commonly referred to as the \"dump month\" in the movie industry. This is when studios tend to release movies that are not expected to perform well, in large quantities."
   ]
  },
  {
   "cell_type": "code",
   "execution_count": null,
   "metadata": {},
   "outputs": [],
   "source": [
    "plt.figure(figsize=(10,5))\n",
    "sns.countplot(x='day', data=df, order=day_order)\n",
    "plt.title(\"Number of Movies Released on Each Day of the Week\")\n",
    "plt.xlabel('Day of the Week')\n",
    "plt.ylabel('Number of Movies Released')\n"
   ]
  },
  {
   "attachments": {},
   "cell_type": "markdown",
   "metadata": {},
   "source": [
    "The data shows that Friday is the most popular day for movie releases, which is not surprising since it marks the start of the weekend when many people are looking for entertainment options. On the other hand, Sunday and Monday are the least popular days for movie releases, likely due to the fact that people are usually busy with work or school during those days and are less likely to go out for leisure activities."
   ]
  },
  {
   "cell_type": "code",
   "execution_count": null,
   "metadata": {},
   "outputs": [],
   "source": [
    "# Filter for movies with revenue greater than 100 million\n",
    "blockbuster_movies = df[df['revenue'] > 1e8]\n",
    "\n",
    "# Compute the average revenue by month for blockbuster movies\n",
    "month_mean = blockbuster_movies.groupby('month')['revenue'].mean().reset_index()\n",
    "\n",
    "# Sort the dataframe by month order\n",
    "month_mean = month_mean.set_index('month').loc[month_order].reset_index()\n",
    "\n",
    "# Create a bar plot of average revenue by month for blockbuster movies\n",
    "plt.figure(figsize=(12,6))\n",
    "sns.barplot(x='month', y='revenue', data=month_mean)\n",
    "plt.title(\"Average Gross by the Month for Blockbuster Movies\")\n"
   ]
  },
  {
   "attachments": {},
   "cell_type": "markdown",
   "metadata": {},
   "source": [
    "It is interesting to note that the months of April, May, and June show the highest average gross among high-grossing movies. This can be explained by the tendency of studios to release their blockbuster films during the summer months, when audiences have more free time and are more willing to spend their money on entertainment. As a result, these months see a higher concentration of big-budget movies with high revenue numbers."
   ]
  },
  {
   "cell_type": "code",
   "execution_count": null,
   "metadata": {},
   "outputs": [],
   "source": [
    "fig, ax = plt.subplots(figsize=(15, 8))\n",
    "sns.boxplot(x='month', y='return', data=df[df['return'].notnull()], palette=\"muted\", ax=ax, order=month_order)\n",
    "ax.set_ylim([0, 12])\n",
    "ax.set_title('Distribution of Return on Investment by Month')\n",
    "ax.set_xlabel('Month')\n",
    "ax.set_ylabel('Return on Investment')\n"
   ]
  },
  {
   "attachments": {},
   "cell_type": "markdown",
   "metadata": {},
   "source": [
    "By examining the plot, we can see that the median ROI for movies released in the months of May, June, and July appears to be higher than the median ROI for movies released in other months. This suggests that movies released during these summer months tend to have a better return on investment. However, it's important to note that there is significant overlap between the distributions for each month, and outliers can also have a significant impact on the results. Therefore, further analysis may be required to confirm these findings."
   ]
  },
  {
   "attachments": {},
   "cell_type": "markdown",
   "metadata": {},
   "source": [
    "## Films that have earned the most revenue worldwide, ever:"
   ]
  },
  {
   "cell_type": "code",
   "execution_count": null,
   "metadata": {},
   "outputs": [],
   "source": [
    "df['revenue'].describe()"
   ]
  },
  {
   "attachments": {},
   "cell_type": "markdown",
   "metadata": {},
   "source": [
    "The movie with the lowest revenue earned only 1 dollar, while the highest grossing movie of all time made a mind-boggling 2.78 billion dollars.On average, a movie earns 68.7 million dollars, however, the median gross is significantly lower at 16.8 million dollars, indicating that the revenue distribution is highly skewed. "
   ]
  },
  {
   "cell_type": "code",
   "execution_count": null,
   "metadata": {},
   "outputs": [],
   "source": [
    "plt.hist(df[df['revenue'].notnull()]['revenue'], bins=50)\n",
    "plt.xlabel('Revenue')\n",
    "plt.ylabel('Frequency')\n",
    "plt.title('Distribution of Movie Revenue')\n",
    "plt.show()"
   ]
  },
  {
   "attachments": {},
   "cell_type": "markdown",
   "metadata": {},
   "source": [
    "The histogram shows the distribution of revenue for movies in the dataset. The majority of the movies have a revenue less than $200 million, and very few movies have revenue above $1 billion. The distribution is heavily skewed to the right, indicating that most movies do not make a significant amount of revenue, while a few movies generate extremely high revenue."
   ]
  },
  {
   "cell_type": "code",
   "execution_count": null,
   "metadata": {},
   "outputs": [],
   "source": [
    "top_profit = df[['poster_path', 'title', 'budget', 'revenue', 'year']].sort_values('revenue', ascending=False).head(10)\n",
    "pd.set_option('display.max_colwidth', 100)\n",
    "HTML(top_profit.to_html(escape=False))\n"
   ]
  },
  {
   "attachments": {},
   "cell_type": "markdown",
   "metadata": {},
   "source": [
    "# Successful Movies:\n"
   ]
  },
  {
   "cell_type": "code",
   "execution_count": null,
   "metadata": {},
   "outputs": [],
   "source": [
    "# Selecting movies that have a valid return on investment and a budget greater than 5 million\n",
    "selected_movies = df[(df['return'].notnull()) & (df['budget'] > 10e6)]\n",
    "\n",
    "# Sorting the selected movies by return on investment in descending order and selecting the top 10\n",
    "top_10_movies = selected_movies[['title', 'budget', 'revenue', 'return', 'year']].sort_values('return', ascending=False).head(10)\n",
    "top_10_movies\n"
   ]
  },
  {
   "attachments": {},
   "cell_type": "markdown",
   "metadata": {},
   "source": [
    "## Big-Budget Blockbusters: "
   ]
  },
  {
   "cell_type": "code",
   "execution_count": null,
   "metadata": {},
   "outputs": [],
   "source": [
    "# Select rows where the budget is not null\n",
    "budget_df = df[df['budget'].notnull()]\n",
    "\n",
    "# Sort the data by budget in descending order and select the top 10 entries\n",
    "top_budget_movies = budget_df[['title', 'budget', 'revenue', 'return', 'year']].sort_values('budget', ascending=False).head(10)\n",
    "top_budget_movies\n",
    "\n"
   ]
  },
  {
   "attachments": {},
   "cell_type": "markdown",
   "metadata": {},
   "source": [
    "The top two spots on this list of the most expensive movies of all time are held by the Pirates of the Caribbean franchise, with a budget of over 300 million dollars each. Interestingly, all of the top 10 movies managed to make a profit on their investment except for The Lone Ranger, which had a budget of 255 million dollars but earned less than 35% of that amount, bringing in only 90 million dollars."
   ]
  },
  {
   "cell_type": "code",
   "execution_count": null,
   "metadata": {},
   "outputs": [],
   "source": [
    "sns.jointplot(x='budget', y='revenue', data=df[df['return'].notnull()])\n"
   ]
  },
  {
   "attachments": {},
   "cell_type": "markdown",
   "metadata": {},
   "source": [
    "The plot shows the relationship between these two variables and also the distribution of the data points. The joint plot also displays the marginal distributions of budget and revenue separately on the top and right sides of the plot. This plot can help to identify any patterns or trends between the budget and revenue of movies, and can give insights into the potential profitability of movies based on their budget."
   ]
  },
  {
   "attachments": {},
   "cell_type": "markdown",
   "metadata": {},
   "source": [
    "# Biggest Box Office Flops:"
   ]
  },
  {
   "cell_type": "code",
   "execution_count": null,
   "metadata": {},
   "outputs": [],
   "source": [
    "# Filter the dataframe to select movies with non-null return and budget greater than 5 million and revenue greater than 10,000\n",
    "filtered_df = df[(df['return'].notnull()) & (df['budget'] > 5e6) & (df['revenue'] > 10000)]\n",
    "\n",
    "# Select the columns of interest and sort by return in ascending order to get the top 10 worst box office disasters\n",
    "disasters_df = filtered_df[['title', 'budget', 'revenue', 'return', 'year']].sort_values('return').head(10)\n",
    "disasters_df\n"
   ]
  },
  {
   "cell_type": "code",
   "execution_count": null,
   "metadata": {},
   "outputs": [],
   "source": [
    "# Replace 'NaT' values with NaN in the 'year' column\n",
    "df['year'] = df['year'].replace('NaT', np.nan)\n",
    "\n",
    "# Apply the 'numeric' function to the 'year' column\n",
    "def numeric(x):\n",
    "    try:\n",
    "        return int(x)\n",
    "    except:\n",
    "        return np.nan\n",
    "    \n",
    "df['year'] = df['year'].apply(numeric)\n",
    "\n",
    "\n",
    "# Compute correlation matrix and create a mask to hide upper triangle\n",
    "corr = df.corr()\n",
    "mask = np.triu(np.ones_like(corr, dtype=bool))\n",
    "\n",
    "# Plot heatmap with annotations\n",
    "with sns.axes_style(\"white\"):\n",
    "    plt.figure(figsize=(9, 9))\n",
    "    ax = sns.heatmap(corr, mask=mask, vmax=.3, square=True, annot=True, cmap='BuPu')\n",
    "    ax.set_title(\"Correlation matrix of numeric features\")\n"
   ]
  },
  {
   "attachments": {},
   "cell_type": "markdown",
   "metadata": {},
   "source": [
    "# Colloquial language"
   ]
  },
  {
   "cell_type": "code",
   "execution_count": null,
   "metadata": {},
   "outputs": [],
   "source": [
    "# Convert string representation of list to actual list and count its length\n",
    "df['spoken_languages'] = df['spoken_languages'].apply(lambda x: len(ast.literal_eval(x)) if isinstance(x, str) else np.nan)\n",
    "spoken_lang_counts = df['spoken_languages'].value_counts()\n",
    "spoken_lang_counts\n"
   ]
  },
  {
   "attachments": {},
   "cell_type": "markdown",
   "metadata": {},
   "source": [
    "The majority of movies, according to the dataset, feature only one spoken language throughout the movie. However, there is at least one movie that stands out with a record-breaking 19 spoken languages in a single film."
   ]
  },
  {
   "cell_type": "code",
   "execution_count": null,
   "metadata": {},
   "outputs": [],
   "source": [
    "df[df['spoken_languages'] >= 5][['title', 'year', 'spoken_languages']].sort_values('spoken_languages', ascending=False)"
   ]
  },
  {
   "cell_type": "code",
   "execution_count": null,
   "metadata": {},
   "outputs": [],
   "source": [
    "# Create a scatter plot to visualize the relationship between the number of spoken languages and the return on investment\n",
    "plt.figure(figsize=(8, 6))\n",
    "sns.scatterplot(x=\"spoken_languages\", y=\"return\", data=df, color=\"m\", alpha=0.7)\n",
    "\n",
    "# Add a regression line and correlation coefficient to the plot\n",
    "sns.regplot(x=\"spoken_languages\", y=\"return\", data=df, scatter=False, color=\"k\")\n",
    "corr_coef, p_value = stats.spearmanr(df[\"spoken_languages\"], df[\"return\"])\n",
    "plt.text(0.1, 0.9, f\"Spearman's correlation: {corr_coef:.2f}, p-value: {p_value:.2e}\", \n",
    "         transform=plt.gca().transAxes, fontsize=12)\n",
    "\n",
    "# Add labels and a title to the plot\n",
    "plt.xlabel(\"Number of spoken languages\")\n",
    "plt.ylabel(\"Return on investment\")\n",
    "plt.title(\"Relationship between Number of Spoken Languages and Return on Investment\")\n"
   ]
  },
  {
   "attachments": {},
   "cell_type": "markdown",
   "metadata": {},
   "source": [
    "<!-- The correlation coefficient (Spearman's rho) between the number of spoken languages and the return on investment is a measure of how strong and in what direction the relationship is between these two variables. The correlation coefficient is a number between -1 and 1, where -1 indicates a perfect negative correlation (as one variable increases, the other decreases), 0 indicates no correlation, and 1 indicates a perfect positive correlation (as one variable increases, the other increases as well). -->\n",
    "\n",
    "<!-- The p-value is a measure of the strength of evidence against the null hypothesis (that there is no correlation between the two variables) and in favor of the alternative hypothesis (that there is a correlation). A low p-value indicates strong evidence against the null hypothesis and in favor of the alternative hypothesis. -->\n",
    "\n",
    "In this case, the Spearman's correlation coefficient between the number of spoken languages and the return on investment is negative and significant (-0.12, p < 0.05), which means that as the number of spoken languages increases, the return on investment tends to decrease. However, the correlation is not very strong, indicating that there are other factors that also influence the return on investment of a movie."
   ]
  },
  {
   "attachments": {},
   "cell_type": "markdown",
   "metadata": {},
   "source": [
    "# Original Language"
   ]
  },
  {
   "cell_type": "code",
   "execution_count": null,
   "metadata": {},
   "outputs": [],
   "source": [
    "df['original_language'].drop_duplicates().shape[0]"
   ]
  },
  {
   "cell_type": "code",
   "execution_count": null,
   "metadata": {},
   "outputs": [],
   "source": [
    "language_df = pd.DataFrame(df['original_language'].value_counts())\n",
    "language_df['language'] = language_df.index\n",
    "language_df.columns = ['number', 'language']\n",
    "language_df.head(10)"
   ]
  },
  {
   "attachments": {},
   "cell_type": "markdown",
   "metadata": {},
   "source": [
    "The dataset includes movies in more than 93 different languages. As anticipated, the majority of movies are in English, while French and Italian films come in second and third place respectively, although significantly behind. To better visualize the popularity of languages other than English, Lets create a bar plot."
   ]
  },
  {
   "cell_type": "code",
   "execution_count": null,
   "metadata": {},
   "outputs": [],
   "source": [
    "plt.figure(figsize=(12,5))\n",
    "sns.barplot(x='language', y='number', data=language_df.iloc[1:30])\n",
    "#The iloc[1:11] parameter is used to exclude the first row, which is for English movies, and only include the top 30 non-English languages.\n",
    "plt.show()"
   ]
  },
  {
   "attachments": {},
   "cell_type": "markdown",
   "metadata": {},
   "source": [
    "After English, French and Italian are the two most frequently occurring languages in the dataset. However, when it comes to Asian languages, Japanese and Hindi are the most commonly represented."
   ]
  },
  {
   "attachments": {},
   "cell_type": "markdown",
   "metadata": {},
   "source": [
    "## This section will explore the popularity, vote average, and vote count metrics provided by TMDB users. The aim is to gain a better understanding of these features and identify any relationships with other numerical features such as budget and revenue."
   ]
  },
  {
   "cell_type": "code",
   "execution_count": null,
   "metadata": {},
   "outputs": [],
   "source": [
    "def convert_numeric(x):\n",
    "    if isinstance(x, (int, float)):\n",
    "        return x\n",
    "    try:\n",
    "        return float(x)\n",
    "    except:\n",
    "        return np.nan\n",
    "\n",
    "df['popularity'] = df['popularity'].apply(convert_numeric).astype('float')\n",
    "df['vote_count'] = df['vote_count'].apply(convert_numeric).astype('float')\n",
    "df['vote_average'] = df['vote_average'].apply(convert_numeric).astype('float')\n"
   ]
  },
  {
   "cell_type": "code",
   "execution_count": null,
   "metadata": {},
   "outputs": [],
   "source": [
    "df['popularity'].describe()"
   ]
  },
  {
   "cell_type": "code",
   "execution_count": null,
   "metadata": {},
   "outputs": [],
   "source": [
    "sns.histplot(df['popularity'].fillna(df['popularity'].median()))\n",
    "plt.title(\"Distribution of Movie Popularity Scores\")\n",
    "plt.xlabel(\"Popularity Score\")\n",
    "plt.ylabel(\"Frequency\")\n",
    "plt.show()\n"
   ]
  },
  {
   "cell_type": "code",
   "execution_count": null,
   "metadata": {},
   "outputs": [],
   "source": [
    "df['popularity'].plot(logy=True, kind='hist')"
   ]
  },
  {
   "attachments": {},
   "cell_type": "markdown",
   "metadata": {},
   "source": [
    "Since the popularity values are skewed towards the lower end, using a logarithmic y-axis allows to have a better visualize the distribution and identify any patterns or outliers. "
   ]
  },
  {
   "cell_type": "code",
   "execution_count": null,
   "metadata": {},
   "outputs": [],
   "source": [
    "df[['title', 'popularity', 'year']].sort_values('popularity', ascending=False).head(10)"
   ]
  },
  {
   "attachments": {},
   "cell_type": "markdown",
   "metadata": {},
   "source": [
    "According to the TMDB Popularity Score, Minions is the most popular movie. Wonder Woman and Beauty and the Beast, both of which are highly successful movies with female leads, come in second and third place, respectively."
   ]
  },
  {
   "cell_type": "code",
   "execution_count": null,
   "metadata": {},
   "outputs": [],
   "source": [
    "df['vote_count'].describe()"
   ]
  },
  {
   "cell_type": "code",
   "execution_count": null,
   "metadata": {},
   "outputs": [],
   "source": [
    "df[['title', 'vote_count', 'year']].sort_values('vote_count', ascending=False).head(10)"
   ]
  },
  {
   "attachments": {},
   "cell_type": "markdown",
   "metadata": {},
   "source": [
    "The top three movies on the list are Inception, The Dark Knight, and Avatar, each with over 12,000 votes. The list includes popular movies from different genres and time periods."
   ]
  },
  {
   "cell_type": "code",
   "execution_count": null,
   "metadata": {},
   "outputs": [],
   "source": [
    "df['vote_average'] = df['vote_average'].replace(0, np.nan)\n",
    "df['vote_average'].describe()"
   ]
  },
  {
   "cell_type": "code",
   "execution_count": null,
   "metadata": {},
   "outputs": [],
   "source": [
    "plt.figure(figsize=(8,6))\n",
    "sns.histplot(data=df['vote_average'].fillna(df['vote_average'].median()), kde=True)\n",
    "plt.title('Distribution of Vote Average Scores')\n",
    "plt.xlabel('Vote Average')\n",
    "plt.ylabel('Frequency')\n",
    "plt.show()\n"
   ]
  },
  {
   "attachments": {},
   "cell_type": "markdown",
   "metadata": {},
   "source": [
    "The plot suggests that the vote average scores have a nearly normal distribution, with most movies having a score of around 6 to 7.5. The peak in the distribution lies between 5.5 to 6.5. This indicates that most movies have received an average rating of around 6 to 7.5 out of 10 from the users of TMDB. The histogram also shows that there are very few movies with a vote average score less than 3 or greater than 9, which means that the majority of the movies fall within the range of 3 to 9. Overall, the plot provides insights into the distribution of vote average scores for the movies in the dataset."
   ]
  },
  {
   "attachments": {},
   "cell_type": "markdown",
   "metadata": {},
   "source": [
    "# Top-rated movies based on critical acclaim"
   ]
  },
  {
   "cell_type": "code",
   "execution_count": null,
   "metadata": {},
   "outputs": [],
   "source": [
    "df[df['vote_count'] > 2000][['title', 'vote_average', 'vote_count' ,'year']].sort_values('vote_average', ascending=False).head(10)"
   ]
  },
  {
   "attachments": {},
   "cell_type": "markdown",
   "metadata": {},
   "source": [
    "The table shows the top 10 most critically acclaimed movies based on the vote average and vote count ratings provided by TMDB users. The list includes classic movies like The Shawshank Redemption, The Godfather, and Psycho, as well as more recent films like Spirited Away, The Dark Knight, and Fight Club. These movies have received high ratings from a large number of users, indicating their enduring popularity and appeal"
   ]
  },
  {
   "cell_type": "code",
   "execution_count": null,
   "metadata": {},
   "outputs": [],
   "source": [
    "sns.jointplot(x='vote_average', y='popularity', data=df)"
   ]
  },
  {
   "attachments": {},
   "cell_type": "markdown",
   "metadata": {},
   "source": [
    "From the jointplot,Observeed that there is a moderate positive correlation between vote_average and popularity. This means that movies with a higher vote_average tend to be more popular among the users of TMDB."
   ]
  },
  {
   "cell_type": "code",
   "execution_count": null,
   "metadata": {},
   "outputs": [],
   "source": [
    "sns.jointplot(x='vote_average', y='vote_count', data=df)"
   ]
  },
  {
   "attachments": {},
   "cell_type": "markdown",
   "metadata": {},
   "source": [
    "The plot shows that there is a positive correlation between vote_average and vote_count, indicating that movies with higher average ratings tend to receive more votes. This makes sense as popular movies are often talked about and discussed more, leading to a larger number of people rating the movie."
   ]
  },
  {
   "attachments": {},
   "cell_type": "markdown",
   "metadata": {},
   "source": [
    "The analysis aims to explore if certain words appear more frequently in movie titles and blurbs, indicating their perceived potency and worthiness for a title."
   ]
  },
  {
   "cell_type": "code",
   "execution_count": null,
   "metadata": {},
   "outputs": [],
   "source": [
    "df['title'] = df['title'].astype('str')\n",
    "df['overview'] = df['overview'].astype('str')\n",
    "\n",
    "title_body = ''.join(df['title'])\n",
    "overview_body = ''.join(df['overview'])"
   ]
  },
  {
   "cell_type": "code",
   "execution_count": null,
   "metadata": {},
   "outputs": [],
   "source": [
    "title_wordcloud = WordCloud(stopwords= STOPWORDS,background_color=\"white\",height=2000,width=4500).generate(title_body)\n",
    "plt.figure(figsize=(16,10))\n",
    "plt.imshow(title_wordcloud)\n",
    "plt.axis('off')\n",
    "plt.show()"
   ]
  },
  {
   "attachments": {},
   "cell_type": "markdown",
   "metadata": {},
   "source": [
    "The analysis reveals that \"Man\" is the most frequently used word in movie titles. It is followed by \"Love,\" \"Day,\" and \"Last\"."
   ]
  },
  {
   "cell_type": "code",
   "execution_count": null,
   "metadata": {},
   "outputs": [],
   "source": [
    "overview_wordcloud = WordCloud(stopwords= STOPWORDS,background_color=\"white\",height=2000,width=4500).generate(overview_body)\n",
    "plt.figure(figsize=(16,10))\n",
    "plt.imshow(overview_wordcloud)\n",
    "plt.axis('off')\n",
    "plt.show()"
   ]
  },
  {
   "attachments": {},
   "cell_type": "markdown",
   "metadata": {},
   "source": [
    "The analysis of movie titles and blurbs reveals that the word \"Love\" is the most commonly used word in movie titles and overview, followed by \"Life\", \"Find\" and \"One\". Meanwhile, in movie blurbs, \"One\" and \"Find\" are among the most frequently used words. This suggests that the themes of life, love, and relationships are among the most popular in the world of movies."
   ]
  },
  {
   "cell_type": "code",
   "execution_count": null,
   "metadata": {},
   "outputs": [],
   "source": []
  }
 ],
 "metadata": {
  "kernelspec": {
   "display_name": "base",
   "language": "python",
   "name": "python3"
  },
  "language_info": {
   "codemirror_mode": {
    "name": "ipython",
    "version": 3
   },
   "file_extension": ".py",
   "mimetype": "text/x-python",
   "name": "python",
   "nbconvert_exporter": "python",
   "pygments_lexer": "ipython3",
   "version": "3.9.13"
  },
  "orig_nbformat": 4
 },
 "nbformat": 4,
 "nbformat_minor": 2
}
